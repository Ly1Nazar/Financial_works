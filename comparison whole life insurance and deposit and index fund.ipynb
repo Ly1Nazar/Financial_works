{
 "cells": [
  {
   "cell_type": "code",
   "execution_count": 9,
   "metadata": {},
   "outputs": [],
   "source": [
    "import numpy as np\n",
    "import seaborn as sns"
   ]
  },
  {
   "cell_type": "markdown",
   "metadata": {},
   "source": [
    "<style>\n",
    "   p {\n",
    "    text-indent: 20px;\n",
    "   }\n",
    " </style>\n",
    "<h4>We will search through a special case, which is based for US market</h4>\n",
    "\n",
    "<p>Average whole life insurance is ~500$\n",
    "\n",
    "<p>And the avarage of insurance is ~117$\n",
    "    <p>And the interest on whole-life insurance is 4-6% annualy\n",
    "    <p>As a comparison we chose index fund (cause it's rather stable) ~7% annualy \n",
    "    <p>The whole idea of this work is to check whether index fund + regular insurance has more income\n",
    "  than whole-life insurance\n",
    "<p>We chose for example a 20 year term for middle life male with no health problems</p>\n",
    "all of the insterest rates and prices are for US market"
   ]
  },
  {
   "cell_type": "markdown",
   "metadata": {},
   "source": [
    "<h3>Firstly we will calculate the profit in the end of the term of whole life insurance</h3>"
   ]
  },
  {
   "cell_type": "code",
   "execution_count": 10,
   "metadata": {},
   "outputs": [
    {
     "name": "stdout",
     "output_type": "stream",
     "text": [
      "153235.4705830239\n"
     ]
    }
   ],
   "source": [
    "years = np.arange(2010,2030,1)\n",
    "yearly_payment = 500*12\n",
    "cash_value = 0.33\n",
    "interest = 0.06\n",
    "investments = []\n",
    "end_of_period = 0\n",
    "end_per = []\n",
    "for i in range (0,len(years)):\n",
    "    insurance_part = yearly_payment*(1-cash_value)\n",
    "    invest_part = (yearly_payment*cash_value)*((1+interest)**i)\n",
    "    investments.append(invest_part+insurance_part)\n",
    "    end_of_period += invest_part + insurance_part\n",
    "    end_per.append(end_of_period)\n",
    "print(end_of_period)\n",
    "#print('invest_part',investments)\n",
    "#print(len(investments),len(years))\n"
   ]
  },
  {
   "cell_type": "markdown",
   "metadata": {},
   "source": [
    "<h3>Now we will calculate the profit from index fund + regular insurance</h3>"
   ]
  },
  {
   "cell_type": "code",
   "execution_count": 11,
   "metadata": {},
   "outputs": [
    {
     "name": "stdout",
     "output_type": "stream",
     "text": [
      "163714.23908213773\n"
     ]
    }
   ],
   "source": [
    "#standart insurance + index fund\n",
    "insurance1 = 117*12\n",
    "index_fund = 0.07 - 0.013\n",
    "#1.3% inflation isn't indexed in fund\n",
    "investments1 = []\n",
    "end_of_period1 = 0\n",
    "cash_for_fund = yearly_payment - insurance1\n",
    "for c in range(0,len(years)):\n",
    "    end_of_period1 += cash_for_fund*((1+index_fund)**c)\n",
    "    investments1.append(cash_for_fund*((1+index_fund)**c))\n",
    "print(end_of_period1)"
   ]
  },
  {
   "cell_type": "code",
   "execution_count": 12,
   "metadata": {},
   "outputs": [
    {
     "name": "stdout",
     "output_type": "stream",
     "text": [
      "104208.61037388712\n"
     ]
    }
   ],
   "source": [
    "#deposit\n",
    "deposit = 0.013\n",
    "investments2 = []\n",
    "end_of_period2 = 0\n",
    "for c in range(0,len(years)):\n",
    "    investments2.append(cash_for_fund*((1+deposit)**c))\n",
    "    end_of_period2 += cash_for_fund*((1+deposit)**c)\n",
    "print(end_of_period2)"
   ]
  },
  {
   "cell_type": "markdown",
   "metadata": {},
   "source": [
    "<h2>Conclusion</h2>\n",
    "<p>blue represents whole life insurance</p>\n",
    "<p>red represents deposit</p>\n",
    "chart represetns money that are on account at certain time, but using whole life insurance you get access to them only in the end of the term"
   ]
  },
  {
   "cell_type": "code",
   "execution_count": 13,
   "metadata": {},
   "outputs": [
    {
     "name": "stdout",
     "output_type": "stream",
     "text": [
      "\n"
     ]
    },
    {
     "data": {
      "image/png": "[encoded data removed]",
      "text/plain": [
       "<Figure size 432x288 with 1 Axes>"
      ]
     },
     "metadata": {},
     "output_type": "display_data"
    }
   ],
   "source": [
    "sns.set_palette(\"Paired\")\n",
    "sns.set_theme(style=\"darkgrid\")\n",
    "sns.set_context(\"paper\")\n",
    "sns.lineplot(x=years, y=investments)\n",
    "sns.set_theme(style=\"darkgrid\")\n",
    "sns.set_context(\"paper\")\n",
    "sns.lineplot(x=years, y=investments2)\n",
    "print()"
   ]
  },
  {
   "cell_type": "markdown",
   "metadata": {},
   "source": [
    "<h2>More interesting to compare: </h2>\n",
    "<p>blue is for whole life insurance</p>\n",
    "<p>red is for index fund + regular insurance</p>"
   ]
  },
  {
   "cell_type": "code",
   "execution_count": 14,
   "metadata": {},
   "outputs": [
    {
     "name": "stdout",
     "output_type": "stream",
     "text": [
      "difference between index fund & whole life =  10478.768499113823\n"
     ]
    },
    {
     "data": {
      "image/png": "[encoded data removed]",
      "text/plain": [
       "<Figure size 432x288 with 1 Axes>"
      ]
     },
     "metadata": {},
     "output_type": "display_data"
    }
   ],
   "source": [
    "sns.set_palette(\"Paired\")\n",
    "sns.set_theme(style=\"darkgrid\")\n",
    "sns.set_context(\"paper\")\n",
    "sns.lineplot(x=years, y=investments)\n",
    "sns.set_theme(style=\"darkgrid\")\n",
    "sns.set_context(\"paper\")\n",
    "sns.lineplot(x=years, y=investments1)\n",
    "print('difference between index fund & whole life = ',end_of_period1-end_of_period)"
   ]
  },
  {
   "cell_type": "markdown",
   "metadata": {},
   "source": [
    "<h1>So....</h1>\n",
    "<p></p>\n",
    "<h3>If you want to have access to your money you'd better choose deposit, \n",
    "    on the other hand if you are looking forward for largest income you might choose an index fund.\n",
    "    But if you want to combine money safety and good income - whole life insurance</h3>\n"
   ]
  },
  {
   "cell_type": "code",
   "execution_count": null,
   "metadata": {},
   "outputs": [],
   "source": []
  }
 ],
 "metadata": {
  "celltoolbar": "Необработанный формат ячейки",
  "kernelspec": {
   "display_name": "Python 3",
   "language": "python",
   "name": "python3"
  },
  "language_info": {
   "codemirror_mode": {
    "name": "ipython",
    "version": 3
   },
   "file_extension": ".py",
   "mimetype": "text/x-python",
   "name": "python",
   "nbconvert_exporter": "python",
   "pygments_lexer": "ipython3",
   "version": "3.8.4"
  }
 },
 "nbformat": 4,
 "nbformat_minor": 4
}
